{
  "nbformat": 4,
  "nbformat_minor": 0,
  "metadata": {
    "colab": {
      "name": "NeralMachineTranslation.ipynb",
      "provenance": [],
      "collapsed_sections": []
    },
    "kernelspec": {
      "name": "python3",
      "display_name": "Python 3"
    },
    "language_info": {
      "name": "python"
    },
    "accelerator": "GPU"
  },
  "cells": [
    {
      "cell_type": "code",
      "source": [
        "!wget http://www.manythings.org/anki/fra-eng.zip\n"
      ],
      "metadata": {
        "colab": {
          "base_uri": "https://localhost:8080/"
        },
        "id": "JLGMoDaU2PdJ",
        "outputId": "5a9fae14-602e-4ff7-c1d4-a9e049b97ae2"
      },
      "execution_count": 1,
      "outputs": [
        {
          "output_type": "stream",
          "name": "stdout",
          "text": [
            "--2022-03-10 19:07:53--  http://www.manythings.org/anki/fra-eng.zip\n",
            "Resolving www.manythings.org (www.manythings.org)... 172.67.186.54, 104.21.92.44, 2606:4700:3030::6815:5c2c, ...\n",
            "Connecting to www.manythings.org (www.manythings.org)|172.67.186.54|:80... connected.\n",
            "HTTP request sent, awaiting response... 200 OK\n",
            "Length: 6532197 (6.2M) [application/zip]\n",
            "Saving to: ‘fra-eng.zip’\n",
            "\n",
            "\rfra-eng.zip           0%[                    ]       0  --.-KB/s               \rfra-eng.zip         100%[===================>]   6.23M  --.-KB/s    in 0.05s   \n",
            "\n",
            "2022-03-10 19:07:53 (132 MB/s) - ‘fra-eng.zip’ saved [6532197/6532197]\n",
            "\n"
          ]
        }
      ]
    },
    {
      "cell_type": "code",
      "source": [
        "import zipfile\n",
        "zip = zipfile.ZipFile('fra-eng.zip')\n",
        "zip.extractall()"
      ],
      "metadata": {
        "id": "2bIerA1M37WM"
      },
      "execution_count": 2,
      "outputs": []
    },
    {
      "cell_type": "code",
      "source": [
        "import string, re\n",
        "from unicodedata import normalize\n",
        "from numpy import array, argmax\n",
        "from pickle import load, dump\n",
        "from numpy.random import rand, shuffle\n",
        "from keras.preprocessing.text import Tokenizer\n",
        "from keras.preprocessing.sequence import pad_sequences\n",
        "from tensorflow.keras.utils import to_categorical\n",
        "from keras.utils.vis_utils import plot_model\n",
        "from keras.models import Sequential,load_model\n",
        "from keras.layers import LSTM,Dense,Embedding,RepeatVector,TimeDistributed\n",
        "from nltk.translate.bleu_score import SmoothingFunction,corpus_bleu\n",
        "smoothie = SmoothingFunction().method4"
      ],
      "metadata": {
        "id": "UGhNNDED4GWq"
      },
      "execution_count": 3,
      "outputs": []
    },
    {
      "cell_type": "code",
      "source": [
        "# load file into memory\n",
        "def load_file(filename):\n",
        "\t# open the file as read only\n",
        "\tfile = open(filename, mode='rt', encoding='utf-8')\n",
        "\t# read all text\n",
        "\ttext = file.read()\n",
        "\t# close the file\n",
        "\tfile.close()\n",
        "\treturn text"
      ],
      "metadata": {
        "id": "JMhTsSPM4r7L"
      },
      "execution_count": 4,
      "outputs": []
    },
    {
      "cell_type": "code",
      "source": [
        "# split a loaded document into sentences\n",
        "def splitting_sentence(doc):\n",
        "\tsentences = doc.strip().split('\\n')\n",
        "\tpairs = [sentence.split('\\t') for sentence in  sentences]\n",
        "\treturn pairs"
      ],
      "metadata": {
        "id": "ml0SKCo948-M"
      },
      "execution_count": 5,
      "outputs": []
    },
    {
      "cell_type": "code",
      "source": [
        "# cleaning a list of sentences and creating pairs\n",
        "\n",
        "def clean_pairs(sentences):\n",
        "\tcleaned = list()\n",
        " \n",
        "\t# preparing regex for char filtering\n",
        "\tre_print = re.compile('[^%s]' % re.escape(string.printable))\n",
        "\n",
        "\t# preparing translation table for removing punctuation\n",
        "\ttable = str.maketrans('', '', string.punctuation)\n",
        "\n",
        "  # iterating over each pair\n",
        "\tfor pair in sentences:\n",
        "\t\tclean_pair = list()\n",
        "  \n",
        "\t\tfor sentence in pair:\n",
        "\t\t\t# normalizing unicode characters\n",
        "\t\t\tsentence = normalize('NFD', sentence).encode('ascii', 'ignore')\n",
        "\t\t\tsentence = sentence.decode('UTF-8')\n",
        "\t\t\t# tokenizing on white space\n",
        "\t\t\tsentence = sentence.split()\n",
        "\t\t\t# converting to lowercase\n",
        "\t\t\tsentence = [word.lower() for word in sentence]\n",
        "\t\t\t# removing punctuation from each token\n",
        "\t\t\tsentence = [word.translate(table) for word in sentence]\n",
        "\t\t\t# removing non-printable chars form each token\n",
        "\t\t\tsentence = [re_print.sub('', w) for w in sentence]\n",
        "\t\t\t# removing tokens with numbers in them\n",
        "\t\t\tsentence = [word for word in sentence if word.isalpha()]\n",
        "\t\t\t# storing as string\n",
        "\t\t\tclean_pair.append(' '.join(sentence))\n",
        "\t\tcleaned.append(clean_pair)\n",
        "\treturn array(cleaned)"
      ],
      "metadata": {
        "id": "mDmDuWHfOe00"
      },
      "execution_count": 6,
      "outputs": []
    },
    {
      "cell_type": "code",
      "source": [
        "def saving_clean_data(sentences, filename):\n",
        "\tdump(sentences, open(filename, 'wb'))\n",
        "\tprint(filename,': Saved')"
      ],
      "metadata": {
        "id": "tXdoaCHQOiQE"
      },
      "execution_count": 7,
      "outputs": []
    },
    {
      "cell_type": "code",
      "source": [
        "# load dataset\n",
        "\n",
        "filename = 'fra.txt'\n",
        "doc = load_file(filename)\n",
        "\n",
        "# split into english-french pairs\n",
        "pairs = splitting_sentence(doc)\n",
        "\n",
        "# clean sentences\n",
        "clean_pairs = clean_pairs(pairs)\n",
        "\n",
        "# save clean pairs to file\n",
        "saving_clean_data(clean_pairs, 'english-french.pkl')\n",
        "\n",
        "print('English','-->',\"French\")\n",
        "# spot check\n",
        "for i in range(25):\n",
        "\tprint(clean_pairs[i,0],'-->',clean_pairs[i,1])"
      ],
      "metadata": {
        "colab": {
          "base_uri": "https://localhost:8080/"
        },
        "id": "owkS44uwOk4s",
        "outputId": "61bfb185-4d16-49c4-aae4-213e3257a10c"
      },
      "execution_count": 8,
      "outputs": [
        {
          "output_type": "stream",
          "name": "stdout",
          "text": [
            "english-french.pkl : Saved\n",
            "English --> French\n",
            "go --> va\n",
            "go --> marche\n",
            "go --> bouge\n",
            "hi --> salut\n",
            "hi --> salut\n",
            "run --> cours\n",
            "run --> courez\n",
            "run --> prenez vos jambes a vos cous\n",
            "run --> file\n",
            "run --> filez\n",
            "run --> cours\n",
            "run --> fuyez\n",
            "run --> fuyons\n",
            "run --> cours\n",
            "run --> courez\n",
            "run --> prenez vos jambes a vos cous\n",
            "run --> file\n",
            "run --> filez\n",
            "run --> cours\n",
            "run --> fuyez\n",
            "run --> fuyons\n",
            "who --> qui\n",
            "wow --> ca alors\n",
            "duck --> a terre\n",
            "duck --> baissetoi\n"
          ]
        }
      ]
    },
    {
      "cell_type": "code",
      "source": [
        "# load a clean dataset\n",
        "def loading_cleaned_data(filename):\n",
        "\treturn load(open(filename, 'rb'))"
      ],
      "metadata": {
        "id": "C9pt34uHOoKM"
      },
      "execution_count": 9,
      "outputs": []
    },
    {
      "cell_type": "code",
      "source": [
        "# load dataset\n",
        "data = loading_cleaned_data('english-french.pkl')\n",
        "print(data.shape) "
      ],
      "metadata": {
        "colab": {
          "base_uri": "https://localhost:8080/"
        },
        "id": "fVohs4HvO1ff",
        "outputId": "39c9f3a3-4a2c-4e6f-c324-4b54975cba2d"
      },
      "execution_count": 10,
      "outputs": [
        {
          "output_type": "stream",
          "name": "stdout",
          "text": [
            "(192341, 3)\n"
          ]
        }
      ]
    },
    {
      "cell_type": "code",
      "source": [
        "# reducing dataset size (scaling) \n",
        "\n",
        "new_data_size = 20000\n",
        "dataset = data[:new_data_size, :]\n",
        "\n",
        "# randomly shuffling the dataset to get proper training and testing data\n",
        "shuffle(dataset)\n",
        "\n",
        "# splitting into training and testing (90%-10%)\n",
        "train, test = dataset[:18000], dataset[18000:]\n",
        "\n",
        "# saving the cleaned data,train data and test data \n",
        "saving_clean_data(dataset, 'english-french-both.pkl')\n",
        "saving_clean_data(train, 'english-french-train.pkl')\n",
        "saving_clean_data(test, 'english-french-test.pkl')"
      ],
      "metadata": {
        "colab": {
          "base_uri": "https://localhost:8080/"
        },
        "id": "62GnGTlbO4BT",
        "outputId": "af8d2ba0-e3e8-4de3-c56d-851874167487"
      },
      "execution_count": 11,
      "outputs": [
        {
          "output_type": "stream",
          "name": "stdout",
          "text": [
            "english-french-both.pkl : Saved\n",
            "english-french-train.pkl : Saved\n",
            "english-french-test.pkl : Saved\n"
          ]
        }
      ]
    },
    {
      "cell_type": "code",
      "source": [
        "# loading datasets and saving it into variables\n",
        "dataset = loading_cleaned_data('english-french-both.pkl')\n",
        "train = loading_cleaned_data('english-french-train.pkl')\n",
        "test = loading_cleaned_data('english-french-test.pkl')"
      ],
      "metadata": {
        "id": "WT9OReByO8ic"
      },
      "execution_count": 12,
      "outputs": []
    },
    {
      "cell_type": "code",
      "source": [
        "# fit a tokenizer\n",
        "def create_tokenizer(lines):\n",
        "\ttokenizer = Tokenizer()\n",
        "\ttokenizer.fit_on_texts(lines)\n",
        "\treturn tokenizer\n",
        "\n",
        "# max sentence length\n",
        "def max_length(lines):\n",
        "\treturn max(len(line.split()) for line in lines)"
      ],
      "metadata": {
        "id": "YOcBS3kiPAlm"
      },
      "execution_count": 13,
      "outputs": []
    },
    {
      "cell_type": "code",
      "source": [
        "# preparing the english tokenizer\n",
        "\n",
        "eng_tokenizer = create_tokenizer(dataset[:, 0])\n",
        "eng_vocab_size = len(eng_tokenizer.word_index) + 1\n",
        "eng_length = max_length(dataset[:, 0])\n",
        "\n",
        "print('English Vocabulary Size: %d' % eng_vocab_size)\n",
        "print('English Max Length: %d' % (eng_length))\n",
        "\n",
        "# preparing the french tokenizer\n",
        "\n",
        "fra_tokenizer = create_tokenizer(dataset[:, 1])\n",
        "fra_vocab_size = len(fra_tokenizer.word_index) + 1\n",
        "fra_length = max_length(dataset[:, 1])\n",
        "print('French Vocabulary Size: %d' % fra_vocab_size)\n",
        "print('French Max Length: %d' % (fra_length))"
      ],
      "metadata": {
        "colab": {
          "base_uri": "https://localhost:8080/"
        },
        "id": "FKt2oDdnPDAV",
        "outputId": "f55d9869-eef7-416f-fd8c-02138ae6876a"
      },
      "execution_count": 16,
      "outputs": [
        {
          "output_type": "stream",
          "name": "stdout",
          "text": [
            "English Vocabulary Size: 3418\n",
            "English Max Length: 5\n",
            "French Vocabulary Size: 6977\n",
            "French Max Length: 11\n"
          ]
        }
      ]
    },
    {
      "cell_type": "code",
      "source": [
        "# Input and Output sequence must be encoded to integers and padded to the maximum phrase length\n",
        "def encode_sequences(tokenizer, length, lines):\n",
        "\t# integer encode sequences\n",
        "\tx = tokenizer.texts_to_sequences(lines)\n",
        "\t# pad sequences with 0 values\n",
        "\tx = pad_sequences(x, maxlen=length, padding='post')\n",
        "\treturn x\n",
        "\n",
        "# One hot encoding to max phrase length\n",
        "def one_hot_encoding(sequences, vocab_size):\n",
        "\ty_1 = list()\n",
        "\tfor sequence in sequences:\n",
        "\t\tencoded = to_categorical(sequence, num_classes=vocab_size)\n",
        "\t\ty_1.append(encoded)\n",
        "\ty = array(y_1)\n",
        "\ty = y.reshape(sequences.shape[0], sequences.shape[1], vocab_size)\n",
        "\treturn y"
      ],
      "metadata": {
        "id": "Y2TyA9CAPGds"
      },
      "execution_count": 17,
      "outputs": []
    },
    {
      "cell_type": "code",
      "source": [
        "# preparing training data\n",
        "trainX = encode_sequences(fra_tokenizer, fra_length, train[:, 1])\n",
        "trainY = encode_sequences(eng_tokenizer, eng_length, train[:, 0])\n",
        "trainY = one_hot_encoding(trainY, eng_vocab_size)\n",
        "\n",
        "# prepare testing data\n",
        "testX = encode_sequences(fra_tokenizer, fra_length, test[:, 1])\n",
        "testY = encode_sequences(eng_tokenizer,eng_length, test[:, 0])\n",
        "testY = one_hot_encoding(testY, eng_vocab_size)"
      ],
      "metadata": {
        "id": "K96svjPsPJUV"
      },
      "execution_count": 18,
      "outputs": []
    },
    {
      "cell_type": "code",
      "source": [
        "print('training size:',trainX.shape,trainY.shape)\n",
        "print('testing size:',testX.shape,testY.shape)"
      ],
      "metadata": {
        "colab": {
          "base_uri": "https://localhost:8080/"
        },
        "id": "MaTvO_IpPO0l",
        "outputId": "ba32816e-70b4-4d67-869a-ed40d3514bbf"
      },
      "execution_count": 19,
      "outputs": [
        {
          "output_type": "stream",
          "name": "stdout",
          "text": [
            "training size: (18000, 11) (18000, 5, 3418)\n",
            "testing size: (2000, 11) (2000, 5, 3418)\n"
          ]
        }
      ]
    },
    {
      "cell_type": "code",
      "source": [
        "def model_building(source_vocab, target_vocab, source_len, target_len, units):\n",
        "\tmodel = Sequential()\n",
        "\tmodel.add(Embedding(source_vocab, units, input_length=source_len, mask_zero=True))\n",
        "\tmodel.add(LSTM(units))\n",
        "\tmodel.add(RepeatVector(target_len))\n",
        "\tmodel.add(LSTM(units, return_sequences=True))\n",
        "\tmodel.add(TimeDistributed(Dense(target_vocab, activation='softmax')))\n",
        "\treturn model"
      ],
      "metadata": {
        "id": "JD0xEcw2PRO0"
      },
      "execution_count": 20,
      "outputs": []
    },
    {
      "cell_type": "code",
      "source": [
        "model = model_building(fra_vocab_size, eng_vocab_size, fra_length, eng_length, 512)\n",
        "model.compile(optimizer='adam', loss='categorical_crossentropy',metrics=['acc'])"
      ],
      "metadata": {
        "id": "nv6LoEMvPVR1"
      },
      "execution_count": 21,
      "outputs": []
    },
    {
      "cell_type": "code",
      "source": [
        "print(model.summary())"
      ],
      "metadata": {
        "colab": {
          "base_uri": "https://localhost:8080/"
        },
        "id": "nVVt38JYPe7t",
        "outputId": "bfebc47d-74e7-457e-fedf-a3f016c8e50c"
      },
      "execution_count": 22,
      "outputs": [
        {
          "output_type": "stream",
          "name": "stdout",
          "text": [
            "Model: \"sequential\"\n",
            "_________________________________________________________________\n",
            " Layer (type)                Output Shape              Param #   \n",
            "=================================================================\n",
            " embedding (Embedding)       (None, 11, 512)           3572224   \n",
            "                                                                 \n",
            " lstm (LSTM)                 (None, 512)               2099200   \n",
            "                                                                 \n",
            " repeat_vector (RepeatVector  (None, 5, 512)           0         \n",
            " )                                                               \n",
            "                                                                 \n",
            " lstm_1 (LSTM)               (None, 5, 512)            2099200   \n",
            "                                                                 \n",
            " time_distributed (TimeDistr  (None, 5, 3418)          1753434   \n",
            " ibuted)                                                         \n",
            "                                                                 \n",
            "=================================================================\n",
            "Total params: 9,524,058\n",
            "Trainable params: 9,524,058\n",
            "Non-trainable params: 0\n",
            "_________________________________________________________________\n",
            "None\n"
          ]
        }
      ]
    },
    {
      "cell_type": "code",
      "source": [
        "# Stop model if accuracy of the model doesn't changes by more than 0.01 \n",
        "# Patience = 5 : After each 5 epochs if no improvement is there then training will be stopped.\n",
        "from tensorflow.keras.callbacks import EarlyStopping\n",
        "es = EarlyStopping(monitor='val_acc',patience= 5,min_delta=0.01)"
      ],
      "metadata": {
        "id": "qfQeP7ZcPhHq"
      },
      "execution_count": 23,
      "outputs": []
    },
    {
      "cell_type": "code",
      "source": [
        "# fit model\n",
        "model.fit(trainX, trainY, epochs= 50, batch_size=25, validation_data=(testX, testY), verbose=2,callbacks=[es])"
      ],
      "metadata": {
        "colab": {
          "base_uri": "https://localhost:8080/"
        },
        "id": "6YiEeSzZPkCT",
        "outputId": "8fceb9a7-0f1c-4d8a-aff2-eae6b5f03c75"
      },
      "execution_count": 24,
      "outputs": [
        {
          "output_type": "stream",
          "name": "stdout",
          "text": [
            "Epoch 1/50\n",
            "720/720 - 17s - loss: 3.6005 - acc: 0.4640 - val_loss: 3.0783 - val_acc: 0.5159 - 17s/epoch - 24ms/step\n",
            "Epoch 2/50\n",
            "720/720 - 7s - loss: 2.7073 - acc: 0.5579 - val_loss: 2.5142 - val_acc: 0.5901 - 7s/epoch - 10ms/step\n",
            "Epoch 3/50\n",
            "720/720 - 7s - loss: 2.1475 - acc: 0.6158 - val_loss: 2.2130 - val_acc: 0.6217 - 7s/epoch - 10ms/step\n",
            "Epoch 4/50\n",
            "720/720 - 7s - loss: 1.7229 - acc: 0.6619 - val_loss: 2.0057 - val_acc: 0.6455 - 7s/epoch - 10ms/step\n",
            "Epoch 5/50\n",
            "720/720 - 7s - loss: 1.3543 - acc: 0.7086 - val_loss: 1.8474 - val_acc: 0.6713 - 7s/epoch - 10ms/step\n",
            "Epoch 6/50\n",
            "720/720 - 7s - loss: 1.0476 - acc: 0.7567 - val_loss: 1.7776 - val_acc: 0.6813 - 7s/epoch - 10ms/step\n",
            "Epoch 7/50\n",
            "720/720 - 8s - loss: 0.8008 - acc: 0.8031 - val_loss: 1.6799 - val_acc: 0.7066 - 8s/epoch - 10ms/step\n",
            "Epoch 8/50\n",
            "720/720 - 8s - loss: 0.6045 - acc: 0.8450 - val_loss: 1.6530 - val_acc: 0.7144 - 8s/epoch - 11ms/step\n",
            "Epoch 9/50\n",
            "720/720 - 8s - loss: 0.4621 - acc: 0.8757 - val_loss: 1.6546 - val_acc: 0.7188 - 8s/epoch - 11ms/step\n",
            "Epoch 10/50\n",
            "720/720 - 8s - loss: 0.3635 - acc: 0.9008 - val_loss: 1.6499 - val_acc: 0.7237 - 8s/epoch - 11ms/step\n",
            "Epoch 11/50\n",
            "720/720 - 7s - loss: 0.2967 - acc: 0.9165 - val_loss: 1.6597 - val_acc: 0.7298 - 7s/epoch - 10ms/step\n",
            "Epoch 12/50\n",
            "720/720 - 7s - loss: 0.2503 - acc: 0.9265 - val_loss: 1.6794 - val_acc: 0.7295 - 7s/epoch - 10ms/step\n",
            "Epoch 13/50\n",
            "720/720 - 7s - loss: 0.2249 - acc: 0.9319 - val_loss: 1.6856 - val_acc: 0.7322 - 7s/epoch - 10ms/step\n",
            "Epoch 14/50\n",
            "720/720 - 7s - loss: 0.2062 - acc: 0.9352 - val_loss: 1.7094 - val_acc: 0.7335 - 7s/epoch - 10ms/step\n",
            "Epoch 15/50\n",
            "720/720 - 7s - loss: 0.1960 - acc: 0.9366 - val_loss: 1.7441 - val_acc: 0.7290 - 7s/epoch - 10ms/step\n",
            "Epoch 16/50\n",
            "720/720 - 7s - loss: 0.1858 - acc: 0.9380 - val_loss: 1.7432 - val_acc: 0.7322 - 7s/epoch - 10ms/step\n"
          ]
        },
        {
          "output_type": "execute_result",
          "data": {
            "text/plain": [
              "<keras.callbacks.History at 0x7fc9a89d8f50>"
            ]
          },
          "metadata": {},
          "execution_count": 24
        }
      ]
    },
    {
      "cell_type": "code",
      "source": [
        "# mapping integer to a word\n",
        "def word_for_id(integer, tokenizer):\n",
        "\tfor word, index in tokenizer.word_index.items():\n",
        "\t\tif index == integer:\n",
        "\t\t\treturn word\n",
        "\treturn None"
      ],
      "metadata": {
        "id": "blBCyr6VPmZz"
      },
      "execution_count": 25,
      "outputs": []
    },
    {
      "cell_type": "code",
      "source": [
        "# generating target given source sequence\n",
        "def predict_sequence(model, tokenizer, source):\n",
        "\tprediction = model.predict(source, verbose=0)[0]\n",
        "\tintegers = [argmax(vector) for vector in prediction]\n",
        "\ttarget = list()\n",
        "\tfor i in integers:\n",
        "\t\tword = word_for_id(i, tokenizer)\n",
        "\t\tif word is None:\n",
        "\t\t\tbreak\n",
        "\t\ttarget.append(word)\n",
        "\treturn ' '.join(target)"
      ],
      "metadata": {
        "id": "RA45GQsCPtmm"
      },
      "execution_count": 26,
      "outputs": []
    },
    {
      "cell_type": "code",
      "source": [
        "# evaluating the skill of the model\n",
        "def evaluate_model(model, tokenizer, sources, raw_dataset):\n",
        "  \n",
        "  # Creating empty lists for actual phrases(French) and predicted phrases(English) \n",
        "  actual,predicted = list(),list()\n",
        "  a,b,c = list(),list(),list()\n",
        "  for i,source in enumerate(sources):\n",
        "\n",
        "    # reshaping to the required size\n",
        "    source = source.reshape((1, source.shape[0]))\n",
        "\n",
        "    # predicting for the english tokenizer\n",
        "    translation = predict_sequence(model, eng_tokenizer, source)\n",
        "    # raw_dataset = raw_dataset[i].split(' ') \n",
        "    # print(raw_dataset[i][1])\n",
        "\n",
        "    raw_src,raw_target = raw_dataset[i][1],raw_dataset[i][0]\n",
        "    \n",
        "    # First 10 Predictions\n",
        "    if i <= 10:\n",
        "      print('source = ',raw_src,'<--->', ' target = ',raw_target,'<--->','  predicted = ',translation)\n",
        "\n",
        "    actual.append([raw_target.split()])\n",
        "    predicted.append(translation.split())\n",
        "  \n",
        "  # calculating BLEU score\n",
        "  print('-------------------------------------------')\n",
        "  print('BLEU Score :')\n",
        "  print('BLEU score-1: %f' % corpus_bleu(actual, predicted, weights=(1.0, 0, 0, 0),smoothing_function=smoothie,auto_reweigh=False))\n",
        "  print('BLEU score-2: %f' % corpus_bleu(actual, predicted, weights=(0.5, 0.5, 0, 0),smoothing_function=smoothie,auto_reweigh=False))\n",
        "  print('BLEU score-3: %f' % corpus_bleu(actual, predicted, weights=(0.3, 0.3, 0.3, 0),smoothing_function=smoothie,auto_reweigh=False))\n",
        "  print('BLEU score-4: %f' % corpus_bleu(actual, predicted, weights=(0.25, 0.25, 0.25, 0.25),smoothing_function=smoothie,auto_reweigh=False))"
      ],
      "metadata": {
        "id": "yenQNeTmP0-n"
      },
      "execution_count": 27,
      "outputs": []
    },
    {
      "cell_type": "code",
      "source": [
        "evaluate_model(model,eng_tokenizer,trainX,train)"
      ],
      "metadata": {
        "colab": {
          "base_uri": "https://localhost:8080/"
        },
        "id": "ig54_-ELP7w0",
        "outputId": "17f0ed00-9420-4d56-dc6d-843c53831d5f"
      },
      "execution_count": 28,
      "outputs": [
        {
          "output_type": "stream",
          "name": "stdout",
          "text": [
            "source =  donnenous une chance <--->  target =  give us a chance <--->   predicted =  give us a chance\n",
            "source =  laissezmoi faire ca <--->  target =  let me do that <--->   predicted =  let me do that\n",
            "source =  notre point de vue est biaise <--->  target =  were biased <--->   predicted =  were biased\n",
            "source =  personne ne peut le dire <--->  target =  no one can tell <--->   predicted =  no one can tell\n",
            "source =  ils ne sont pas mal <--->  target =  theyre not bad <--->   predicted =  theyre not bad\n",
            "source =  les chiens peuvent nager <--->  target =  dogs can swim <--->   predicted =  dogs can swim\n",
            "source =  elle na pas tort <--->  target =  she is not wrong <--->   predicted =  she is not wrong\n",
            "source =  jusqua quel point etesvous bon <--->  target =  how good are you <--->   predicted =  how good are you\n",
            "source =  etesvous levee <--->  target =  are you up <--->   predicted =  are you up\n",
            "source =  je vous envie <--->  target =  i envy you <--->   predicted =  i envy you\n",
            "source =  tom semble perdu <--->  target =  tom seems lost <--->   predicted =  tom looks lost\n",
            "-------------------------------------------\n",
            "BLEU Score :\n",
            "BLEU score-1: 0.934619\n",
            "BLEU score-2: 0.914834\n",
            "BLEU score-3: 0.852590\n",
            "BLEU score-4: 0.598091\n"
          ]
        }
      ]
    },
    {
      "cell_type": "code",
      "source": [
        "evaluate_model(model, eng_tokenizer, testX, test)"
      ],
      "metadata": {
        "colab": {
          "base_uri": "https://localhost:8080/"
        },
        "id": "b0yTf1HVP-iz",
        "outputId": "8b427462-50c6-4a16-e0ac-e4f79e710e89"
      },
      "execution_count": 29,
      "outputs": [
        {
          "output_type": "stream",
          "name": "stdout",
          "text": [
            "source =  ne vous arretez pas <--->  target =  dont stop <--->   predicted =  keep moving\n",
            "source =  on ma humiliee <--->  target =  i was humiliated <--->   predicted =  i was humiliated\n",
            "source =  ditesle clairement <--->  target =  say it clearly <--->   predicted =  say it clearly\n",
            "source =  sois tout simplement heureuse <--->  target =  just be happy <--->   predicted =  just be happy\n",
            "source =  je ne suis pas content <--->  target =  i am not happy <--->   predicted =  im not happy\n",
            "source =  je me sens prise de malaise <--->  target =  i feel faint <--->   predicted =  i feel faint\n",
            "source =  il a raison ladessus <--->  target =  he has a point <--->   predicted =  he is away\n",
            "source =  il ny avait pas de vent <--->  target =  it wasnt windy <--->   predicted =  he no blood\n",
            "source =  je vends des chaussures <--->  target =  i sell shoes <--->   predicted =  i brought books\n",
            "source =  tom detourna le regard <--->  target =  tom looked away <--->   predicted =  tom got away\n",
            "source =  passe a autre chose <--->  target =  move on <--->   predicted =  move work\n",
            "-------------------------------------------\n",
            "BLEU Score :\n",
            "BLEU score-1: 0.626608\n",
            "BLEU score-2: 0.529528\n",
            "BLEU score-3: 0.464147\n",
            "BLEU score-4: 0.276451\n"
          ]
        }
      ]
    }
  ]
}